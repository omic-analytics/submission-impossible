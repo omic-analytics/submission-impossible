{
 "cells": [
  {
   "cell_type": "code",
   "execution_count": 1,
   "id": "3f6ce4fd-0fc1-4f1f-be53-9f3f9918788d",
   "metadata": {
    "tags": []
   },
   "outputs": [
    {
     "name": "stdin",
     "output_type": "stream",
     "text": [
      "Enter path to the WGS database (.xlsx file):  ./test_database1.xlsx\n",
      "Enter output filename for JSON data (default: wgs_data.json):  teeest.json\n"
     ]
    }
   ],
   "source": [
    "import pandas as pd\n",
    "import json\n",
    "import re\n",
    "\n",
    "xlsx_file = input(\"Enter path to the WGS database (.xlsx file): \")\n",
    "output_file = input(\"Enter output filename for JSON data (default: wgs_data.json): \") or \"wgs_data.json\"\n"
   ]
  },
  {
   "cell_type": "code",
   "execution_count": 3,
   "id": "6b6b2bb1-b90e-4270-906b-61c25f51e98c",
   "metadata": {
    "tags": []
   },
   "outputs": [],
   "source": [
    "\n",
    "def clean_column_name(name):\n",
    "    \"\"\"Cleans a column name by removing parenthesis and their content, converting to lowercase, and replacing spaces with underscores\"\"\"\n",
    "    return re.sub(r\"\\s*\\(.*?\\)\", \"\", name).lower().replace(\" \", \"_\")\n"
   ]
  },
  {
   "cell_type": "code",
   "execution_count": 4,
   "id": "1b31136b-9c70-430d-9d8e-241841c1dc68",
   "metadata": {
    "tags": []
   },
   "outputs": [],
   "source": [
    "\n",
    "def parse_date(date_str):\n",
    "    \"\"\"Attempts to parse a date string in various formats to YYYY-MM-DD format, or returns empty string if parsing fails\"\"\"\n",
    "    if pd.isna(date_str):  # Check for missing values (using isna)\n",
    "        return \"\"\n",
    "    for format in [\"%m-%d-%Y\", \"%d-%m-%Y\", \"%Y-%m-%d\"]:\n",
    "        try:\n",
    "            return pd.to_datetime(date_str, format).strftime(\"%Y-%m-%d\")\n",
    "        except ValueError:\n",
    "            pass\n",
    "    return \"\"  # If parsing fails, return empty string\n"
   ]
  },
  {
   "cell_type": "code",
   "execution_count": 5,
   "id": "457ac761-3e09-4fdd-9930-cbbc1598c132",
   "metadata": {
    "tags": []
   },
   "outputs": [
    {
     "name": "stdout",
     "output_type": "stream",
     "text": [
      "WGS data extracted and saved to: teeest.json\n"
     ]
    }
   ],
   "source": [
    "\n",
    "def extract_WGS_data(xlsx_file, output_file):\n",
    "    \"\"\"Extracts data from the WGS database and writes it to JSON format\"\"\"\n",
    "    data = pd.read_excel(xlsx_file)\n",
    "\n",
    "    # Clean column names\n",
    "    data.columns = [clean_column_name(col) for col in data.columns]\n",
    "\n",
    "    # Handle missing values (consider filling with empty string or a specific value)\n",
    "    data[\"barcode\"] = data[\"barcode\"].fillna(\"\")  # Replace missing values with empty string (example)\n",
    "\n",
    "    # Filter for strings representing barcodes\n",
    "    string_barcodes = data[data[\"barcode\"].notna()]  # Keep rows with non-missing barcode values after filling\n",
    "    string_barcodes = string_barcodes[string_barcodes[\"barcode\"].str.strip() != \"-\"]  # Exclude empty strings and \"-\"\n",
    "    string_barcodes = string_barcodes[string_barcodes[\"barcode\"].str.len() <= 5]  # Length less than or equal to 5\n",
    "    string_barcodes = string_barcodes[string_barcodes[\"barcode\"].str.isalnum()]  # Only alphanumeric characters\n",
    "\n",
    "    # Filter for numeric barcodes (assuming integers)\n",
    "    numeric_barcodes = data[data[\"barcode\"].apply(lambda x: isinstance(x, int))]\n",
    "\n",
    "    # Convert string barcodes to integers (if necessary)\n",
    "    if len(string_barcodes) > 0:  # Check if there are string barcodes\n",
    "        string_barcodes[\"barcode\"] = string_barcodes[\"barcode\"].astype(int)\n",
    "\n",
    "    # Combine filtered dataframes (optional)\n",
    "    data = pd.concat([string_barcodes, numeric_barcodes], ignore_index=True)\n",
    "\n",
    "    # Select and format desired data\n",
    "    desired_columns = [\"barcode\", \"sequencing_id\", \"ritm_lab_id\", \"age\", \"sex\", \"sple_type\", \"dru\", \"dru_address\"]\n",
    "    # Use cleaned column names for date of collection (assuming it has parenthesis)\n",
    "    if \"date_of_collection\" in data.columns:\n",
    "        desired_columns.append(clean_column_name(\"date_of_collection\"))\n",
    "\n",
    "    desired_data = data[desired_columns]\n",
    "\n",
    "    # Handle empty values\n",
    "    desired_data = desired_data.fillna(\"\")\n",
    "\n",
    "    # Parse date (if the column exists)\n",
    "    if clean_column_name(\"date_of_collection\") in data.columns:\n",
    "        desired_data[clean_column_name(\"date_of_collection\")] = desired_data[\n",
    "            clean_column_name(\"date_of_collection\")].apply(parse_date)\n",
    "\n",
    "    # Convert to JSON format\n",
    "    json_data = desired_data.to_json(orient=\"records\")\n",
    "\n",
    "    # Write to file\n",
    "    with open(output_file, \"w\") as f:\n",
    "        f.write(json_data)\n",
    "\n",
    "extract_WGS_data(xlsx_file, output_file)\n",
    "print(f\"WGS data extracted and saved to: {output_file}\")"
   ]
  }
 ],
 "metadata": {
  "kernelspec": {
   "display_name": "Python 3 (ipykernel)",
   "language": "python",
   "name": "python3"
  },
  "language_info": {
   "codemirror_mode": {
    "name": "ipython",
    "version": 3
   },
   "file_extension": ".py",
   "mimetype": "text/x-python",
   "name": "python",
   "nbconvert_exporter": "python",
   "pygments_lexer": "ipython3",
   "version": "3.11.4"
  }
 },
 "nbformat": 4,
 "nbformat_minor": 5
}
