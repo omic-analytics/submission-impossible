{
 "cells": [
  {
   "cell_type": "code",
   "execution_count": 9,
   "id": "30d4dc5a-abc6-4d4d-85a6-5dcdae64e22a",
   "metadata": {
    "tags": []
   },
   "outputs": [
    {
     "name": "stdout",
     "output_type": "stream",
     "text": [
      "Data written to test_ncbi_metadata.xlsx!\n"
     ]
    }
   ],
   "source": [
    "import json\n",
    "import openpyxl\n",
    "\n",
    "def write_sra_metadata(json_file, bioproject_accession, organism, output_file):\n",
    "  \"\"\"\n",
    "  Reads data from a JSON file and writes it to a user-specified NCBI SRA metadata Excel file,\n",
    "  preserving column names, sorting entries by barcode number, and using isolation_source from JSON.\n",
    "\n",
    "  Args:\n",
    "    json_file: Path to the JSON file containing sample metadata.\n",
    "    bioproject_accession: User-provided BioProject accession.\n",
    "    organism: User-provided organism name.\n",
    "    output_file: User-specified filename for the output Excel file (including .xlsx extension).\n",
    "  \"\"\"\n",
    "  # Open the JSON file and load data\n",
    "  with open(json_file, 'r') as f:\n",
    "    data = json.load(f)\n",
    "\n",
    "  # Prompt user for additional data\n",
    "  geo_loc_name = \"Philippines\" # input(\"Enter Geo Location Name: \")\n",
    "  host = \"Homo sapiens / human\" # input(\"Enter Host: \")\n",
    "  host_disease = \"Covid-19\" # input(\"Enter Host Disease (if any): \")\n",
    "\n",
    "  # Open the Excel workbook (template)\n",
    "  wb = openpyxl.load_workbook(filename=\"SARS-CoV-2.cl.1.0.xlsx\")\n",
    "  sheet = wb.active\n",
    "\n",
    "  # Define a dictionary to store sample data with barcode as key\n",
    "  sample_data = {}\n",
    "  for sample in data:\n",
    "    barcode = f\"{sample.get('barcode', '00')}\".zfill(2)  # Handle missing barcode with '00'\n",
    "    sample_data[barcode] = {\n",
    "      \"sequencing_id\": sample[\"sequencing_id\"],\n",
    "      \"dru\": sample[\"dru\"],\n",
    "      \"date_of_collection\": sample[\"date_of_collection\"],\n",
    "      \"organism\": organism,  # Pre-populate organism\n",
    "      \"geo_loc_name\": geo_loc_name,  # Pre-populate geo location\n",
    "      \"host\": host,  # Pre-populate host\n",
    "      \"host_disease\": host_disease,  # Pre-populate host disease\n",
    "      \"sple_type\": sample[\"sple_type\"],  # Use JSON value or default\n",
    "    }\n",
    "\n",
    "  # Sort sample data by barcode\n",
    "  sorted_samples = dict(sorted(sample_data.items()))\n",
    "\n",
    "  # Write sample data starting from row 12 (A12)\n",
    "  row = 13\n",
    "  for barcode, sample in sorted_samples.items():\n",
    "    sheet.cell(row, 1).value = sample[\"sequencing_id\"]\n",
    "    sheet.cell(row, 3).value = bioproject_accession\n",
    "    sheet.cell(row, 4).value = sample[\"organism\"]\n",
    "    sheet.cell(row, 5).value = sample[\"dru\"]\n",
    "    sheet.cell(row, 6).value = sample[\"date_of_collection\"]\n",
    "    sheet.cell(row, 7).value = sample[\"geo_loc_name\"]\n",
    "    sheet.cell(row, 8).value = sample[\"host\"]\n",
    "    sheet.cell(row, 9).value = sample[\"host_disease\"]\n",
    "    \n",
    "    # Construct isolate string\n",
    "    year = sample[\"date_of_collection\"].split(\"-\")[0]\n",
    "    isolate = f\"{sample['organism']}/{sample['geo_loc_name']}/{sample['sequencing_id']}/{year}\"\n",
    "    sheet.cell(row, 10).value = isolate\n",
    "\n",
    "    sheet.cell(row, 11).value = sample[\"sple_type\"]\n",
    "\n",
    "    row += 1\n",
    "\n",
    "  # Save the workbook to user-specified file\n",
    "  wb.save(output_file)\n",
    "  print(f\"Data written to {output_file}!\")\n",
    "\n",
    "# Replace with your actual JSON file path\n",
    "json_file = \"test.json\"\n",
    "\n",
    "# Get user input\n",
    "bioproject_accession = \"TEST12345\" # input(\"Enter BioProject Accession: \")\n",
    "organism = \"SARS-CoV-2\" # input(\"Enter Organism Name: \")\n",
    "\n",
    "# Get user input for output filename\n",
    "output_file = \"test_ncbi_metadata.xlsx\" # input(\"Enter desired filename for the output file (including .xlsx): \")\n",
    "\n",
    "# Write data to Excel file\n",
    "write_sra_metadata(json_file, bioproject_accession, organism, output_file)\n"
   ]
  }
 ],
 "metadata": {
  "kernelspec": {
   "display_name": "Python 3 (ipykernel)",
   "language": "python",
   "name": "python3"
  },
  "language_info": {
   "codemirror_mode": {
    "name": "ipython",
    "version": 3
   },
   "file_extension": ".py",
   "mimetype": "text/x-python",
   "name": "python",
   "nbconvert_exporter": "python",
   "pygments_lexer": "ipython3",
   "version": "3.11.4"
  }
 },
 "nbformat": 4,
 "nbformat_minor": 5
}
